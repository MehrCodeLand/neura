{
 "cells": [
  {
   "cell_type": "code",
   "execution_count": 1,
   "id": "34c52fb1",
   "metadata": {},
   "outputs": [],
   "source": [
    "import numpy as np"
   ]
  },
  {
   "cell_type": "code",
   "execution_count": 4,
   "id": "af5f0d89",
   "metadata": {},
   "outputs": [],
   "source": [
    "X = [[1 , 2 , 3 , 4],\n",
    "    [2.0 , 2 , 1 , 5],\n",
    "    [1.1 , 2.1 , 0 , 1.1]]"
   ]
  },
  {
   "cell_type": "code",
   "execution_count": 2,
   "id": "c847ae6f",
   "metadata": {},
   "outputs": [],
   "source": [
    "np.random.seed(0)"
   ]
  },
  {
   "cell_type": "code",
   "execution_count": 3,
   "id": "d1c4dbdf",
   "metadata": {},
   "outputs": [],
   "source": [
    "class Layer_Dence:\n",
    "    def __init__(self , n_inputs , n_neurons):\n",
    "        self.weights = 0.10 * np.random.randn(n_inputs , n_neurons)\n",
    "        self.biases = np.zeros((1 , n_neurons))\n",
    "\n",
    "    def forward(self , inputs ):\n",
    "        self.outputs = np.dot(inputs , self.weights ) + self.biases\n",
    "        "
   ]
  },
  {
   "cell_type": "code",
   "execution_count": 5,
   "id": "fd98f526",
   "metadata": {},
   "outputs": [],
   "source": [
    "layer1 = Layer_Dence(4 , 5)\n",
    "layer2 = Layer_Dence(5 , 4)"
   ]
  },
  {
   "cell_type": "code",
   "execution_count": 6,
   "id": "0f612a25",
   "metadata": {},
   "outputs": [
    {
     "name": "stdout",
     "output_type": "stream",
     "text": [
      "[[0.15763246 1.26394709 0.21385037 0.36517514 0.06039617]\n",
      " [0.33859641 1.16251601 0.1390008  0.59623622 0.07296975]\n",
      " [0.02552158 0.40788456 0.05330876 0.25925974 0.19770653]]\n"
     ]
    }
   ],
   "source": [
    "layer1.forward(X)\n",
    "print(f\"{layer1.outputs}\")"
   ]
  },
  {
   "cell_type": "code",
   "execution_count": 7,
   "id": "c18ef9f0",
   "metadata": {},
   "outputs": [
    {
     "name": "stdout",
     "output_type": "stream",
     "text": [
      "[[ 0.25443086 -0.20717053  0.00767932 -0.02338728]\n",
      " [ 0.15476944 -0.23584537  0.01317269 -0.03451718]\n",
      " [ 0.09554215 -0.07740247 -0.01177906 -0.00943635]]\n"
     ]
    }
   ],
   "source": [
    "layer2.forward(layer1.outputs)\n",
    "print(f\"{layer2.outputs}\")"
   ]
  }
 ],
 "metadata": {
  "kernelspec": {
   "display_name": ".venv (3.12.8)",
   "language": "python",
   "name": "python3"
  },
  "language_info": {
   "codemirror_mode": {
    "name": "ipython",
    "version": 3
   },
   "file_extension": ".py",
   "mimetype": "text/x-python",
   "name": "python",
   "nbconvert_exporter": "python",
   "pygments_lexer": "ipython3",
   "version": "3.12.8"
  }
 },
 "nbformat": 4,
 "nbformat_minor": 5
}
